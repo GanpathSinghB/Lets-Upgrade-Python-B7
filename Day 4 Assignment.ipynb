{
 "cells": [
  {
   "cell_type": "markdown",
   "metadata": {},
   "source": [
    "# Question 1\n"
   ]
  },
  {
   "cell_type": "code",
   "execution_count": 3,
   "metadata": {},
   "outputs": [
    {
     "name": "stdout",
     "output_type": "stream",
     "text": [
      "The first armstrong number is : 1741725\n"
     ]
    }
   ],
   "source": [
    "a = 1042000\n",
    "while a<=702648265:\n",
    "    order= len(str(a))\n",
    "    b=0\n",
    "    num=a\n",
    "    while num>0:\n",
    "        digit=num %10\n",
    "        b += digit ** order\n",
    "        num //=10\n",
    "    if a==b:\n",
    "        print(\"The first armstrong number is :\",a)\n",
    "        break\n",
    "    a +=1"
   ]
  },
  {
   "cell_type": "code",
   "execution_count": null,
   "metadata": {},
   "outputs": [],
   "source": []
  }
 ],
 "metadata": {
  "kernelspec": {
   "display_name": "Python 3",
   "language": "python",
   "name": "python3"
  },
  "language_info": {
   "codemirror_mode": {
    "name": "ipython",
    "version": 3
   },
   "file_extension": ".py",
   "mimetype": "text/x-python",
   "name": "python",
   "nbconvert_exporter": "python",
   "pygments_lexer": "ipython3",
   "version": "3.8.3"
  }
 },
 "nbformat": 4,
 "nbformat_minor": 4
}
