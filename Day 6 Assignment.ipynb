{
 "cells": [
  {
   "cell_type": "markdown",
   "metadata": {},
   "source": [
    "# Question 1"
   ]
  },
  {
   "cell_type": "code",
   "execution_count": 7,
   "metadata": {},
   "outputs": [
    {
     "name": "stdout",
     "output_type": "stream",
     "text": [
      "Account owner: Ganpath Singh\n",
      "Account balance: Rs.10000\n",
      "Deposit Accepted, your balance is Rs.15000\n",
      "Withdrawal Accepted, your balance is Rs.7500\n",
      "No Money!!\n"
     ]
    }
   ],
   "source": [
    "class Account:\n",
    "    \n",
    "    def __init__(self, owner, balance):\n",
    "        self.owner = owner\n",
    "        self.balance = balance\n",
    "    \n",
    "    def __str__(self):\n",
    "        return 'Account owner: {owner}\\nAccount balance: Rs.{balance}'.format(owner=self.owner, balance=self.balance)\n",
    "        \n",
    "    def deposit(self, depo_money):\n",
    "        self.balance += depo_money\n",
    "        print('Deposit Accepted, your balance is Rs.{balance}'.format(balance=self.balance))\n",
    "    \n",
    "    def withdraw(self, wid_money):\n",
    "        if wid_money > self.balance:\n",
    "            print('No Money!!')\n",
    "        else:\n",
    "            self.balance -= wid_money\n",
    "            print('Withdrawal Accepted, your balance is Rs.{balance}'.format(balance=self.balance))\n",
    "            \n",
    "account_name = Account('Ganpath Singh',10000)\n",
    "print(account_name)\n",
    "\n",
    "account_name.deposit(5000)\n",
    "account_name.withdraw(7500)\n",
    "account_name.withdraw(50000)"
   ]
  },
  {
   "cell_type": "markdown",
   "metadata": {},
   "source": [
    "# Question 2"
   ]
  },
  {
   "cell_type": "code",
   "execution_count": 15,
   "metadata": {},
   "outputs": [
    {
     "name": "stdout",
     "output_type": "stream",
     "text": [
      "Radius of Cone = 5\n",
      "Height of Cone = 12\n",
      "Volume of Cone = 314.159\n",
      "Surface Area of Cone = 282.743\n"
     ]
    }
   ],
   "source": [
    "import math\n",
    "pi = math.pi\n",
    "\n",
    "class Cone:\n",
    "    \n",
    "    def __init__(self, Radius, Height):\n",
    "        self.Radius = Radius\n",
    "        self.Height = Height\n",
    "        \n",
    "    def __str__(self):\n",
    "        return 'Radius of Cone = {Radius}\\nHeight of Cone = {Height}'.format(Radius=self.Radius, Height=self.Height)\n",
    "    \n",
    "    def volume(self):\n",
    "        R=self.Radius\n",
    "        H=self.Height\n",
    "        volume_clone=(1/3)*pi*R*R*H\n",
    "        print('Volume of Cone = {:.3f}'.format(volume_clone))\n",
    "\n",
    "    def surfacearea(self):\n",
    "        R=self.Radius\n",
    "        H=self.Height\n",
    "        base=pi*R*R\n",
    "        side=pi*R*math.sqrt(R*R+H*H)\n",
    "        surfacearea_cone=base+side\n",
    "        print('Surface Area of Cone = {:.3f}'.format(surfacearea_cone))    \n",
    "        \n",
    "values=Cone(5,12)    \n",
    "print(values)\n",
    "values.volume()\n",
    "values.surfacearea()"
   ]
  },
  {
   "cell_type": "code",
   "execution_count": null,
   "metadata": {},
   "outputs": [],
   "source": []
  },
  {
   "cell_type": "code",
   "execution_count": null,
   "metadata": {},
   "outputs": [],
   "source": []
  }
 ],
 "metadata": {
  "kernelspec": {
   "display_name": "Python 3",
   "language": "python",
   "name": "python3"
  },
  "language_info": {
   "codemirror_mode": {
    "name": "ipython",
    "version": 3
   },
   "file_extension": ".py",
   "mimetype": "text/x-python",
   "name": "python",
   "nbconvert_exporter": "python",
   "pygments_lexer": "ipython3",
   "version": "3.8.3"
  }
 },
 "nbformat": 4,
 "nbformat_minor": 4
}
